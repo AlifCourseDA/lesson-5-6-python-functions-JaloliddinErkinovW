{
 "cells": [
  {
   "attachments": {
    "image-2.png": {
     "image/png": "[encoded data removed]"
    }
   },
   "cell_type": "markdown",
   "id": "72604ce5",
   "metadata": {
    "slideshow": {
     "slide_type": "slide"
    }
   },
   "source": [
    "![image-2.png](attachment:image-2.png)"
   ]
  },
  {
   "cell_type": "markdown",
   "id": "00dd6fb6",
   "metadata": {
    "slideshow": {
     "slide_type": "fragment"
    }
   },
   "source": [
    "# ДЗ №5"
   ]
  },
  {
   "cell_type": "markdown",
   "id": "e28a8323",
   "metadata": {},
   "source": [
    "В этом занятии практика будет ограничиваться исключительно задачами из учебника Яндекс: \n",
    "\n",
    "- В первую очередь надо будет прорешать задания из [модуля 4.1](https://new.contest.yandex.ru/41242/statistics)\n",
    "- Далее надо перейти к [модулю 4.2](https://new.contest.yandex.ru/41243/statistics)\n",
    "- Завершите вы это домашнее задание [модулем 4.3](https://new.contest.yandex.ru/41244/statistics)"
   ]
  },
  {
   "cell_type": "markdown",
   "id": "58584e4a",
   "metadata": {},
   "source": [
    "# 4.1"
   ]
  },
  {
   "cell_type": "markdown",
   "id": "9e5f9de1",
   "metadata": {},
   "source": [
    "**A**"
   ]
  },
  {
   "cell_type": "code",
   "execution_count": 2,
   "id": "ec2fcc7a",
   "metadata": {},
   "outputs": [
    {
     "name": "stdout",
     "output_type": "stream",
     "text": [
      "Hello, Akbar!\n"
     ]
    }
   ],
   "source": [
    "def print_hello(name):\n",
    "    print(f\"Hello, {name}!\")\n",
    "\n",
    "print_hello(\"Akbar\")"
   ]
  },
  {
   "cell_type": "markdown",
   "id": "6637101f",
   "metadata": {},
   "source": [
    "**B**"
   ]
  },
  {
   "cell_type": "code",
   "execution_count": 3,
   "id": "66b2ed6b",
   "metadata": {},
   "outputs": [
    {
     "name": "stdout",
     "output_type": "stream",
     "text": [
      "48\n"
     ]
    }
   ],
   "source": [
    "def gcd(a, b):\n",
    "    while b:\n",
    "        a, b = b, a % b\n",
    "    return a\n",
    "\n",
    "print(gcd(144,96))"
   ]
  },
  {
   "cell_type": "markdown",
   "id": "8a9d79e6",
   "metadata": {},
   "source": [
    "**C**"
   ]
  },
  {
   "cell_type": "code",
   "execution_count": 6,
   "id": "697c19ea",
   "metadata": {},
   "outputs": [
    {
     "name": "stdout",
     "output_type": "stream",
     "text": [
      "5\n"
     ]
    }
   ],
   "source": [
    "def number_length(n):\n",
    "    return len(str(abs(n)))\n",
    "\n",
    "print(number_length(12345))"
   ]
  },
  {
   "cell_type": "markdown",
   "id": "c62da061",
   "metadata": {},
   "source": [
    "**D**"
   ]
  },
  {
   "cell_type": "code",
   "execution_count": 7,
   "id": "06259d87",
   "metadata": {},
   "outputs": [
    {
     "name": "stdout",
     "output_type": "stream",
     "text": [
      "July\n"
     ]
    }
   ],
   "source": [
    "def month(n, lang):\n",
    "    months_dict = {\n",
    "        1: {\"en\": \"January\", \"ru\": \"Январь\"},\n",
    "        2: {\"en\": \"February\", \"ru\": \"Февраль\"},\n",
    "        3: {\"en\": \"March\", \"ru\": \"Март\"},\n",
    "        4: {\"en\": \"April\", \"ru\": \"Апрель\"},\n",
    "        5: {\"en\": \"May\", \"ru\": \"Май\"},\n",
    "        6: {\"en\": \"June\", \"ru\": \"Июнь\"},\n",
    "        7: {\"en\": \"July\", \"ru\": \"Июль\"},\n",
    "        8: {\"en\": \"August\", \"ru\": \"Август\"},\n",
    "        9: {\"en\": \"September\", \"ru\": \"Сентябрь\"},\n",
    "        10: {\"en\": \"October\", \"ru\": \"Октябрь\"},\n",
    "        11: {\"en\": \"November\", \"ru\": \"Ноябрь\"},\n",
    "        12: {\"en\": \"December\", \"ru\": \"Декабрь\"},\n",
    "    }\n",
    "    return months_dict[n][lang]\n",
    "\n",
    "\n",
    "print(month(7, \"en\"))"
   ]
  },
  {
   "cell_type": "markdown",
   "id": "3a6ef79e",
   "metadata": {},
   "source": [
    "**E**"
   ]
  },
  {
   "cell_type": "code",
   "execution_count": 11,
   "id": "7e6cbb3b",
   "metadata": {},
   "outputs": [
    {
     "name": "stdout",
     "output_type": "stream",
     "text": [
      "(1, 2, 3, 4, 5)\n"
     ]
    }
   ],
   "source": [
    "def split_numbers(n):\n",
    "    num_list = n.split()\n",
    "    return tuple(map(int, num_list))\n",
    "\n",
    "print(split_numbers(\"1 2 3 4 5\"))"
   ]
  },
  {
   "cell_type": "markdown",
   "id": "8fab0bc0",
   "metadata": {},
   "source": [
    "**F**"
   ]
  },
  {
   "cell_type": "code",
   "execution_count": 16,
   "id": "1d2a82ed",
   "metadata": {},
   "outputs": [
    {
     "name": "stdout",
     "output_type": "stream",
     "text": [
      "Hello!\n",
      "How do you do?\n"
     ]
    }
   ],
   "source": [
    "word_list = []\n",
    "\n",
    "\n",
    "def modern_print(word):\n",
    "    if word not in word_list:\n",
    "        word_list.append(word)\n",
    "        print(word)\n",
    "\n",
    "\n",
    "modern_print(\"Hello!\")\n",
    "modern_print(\"Hello!\")\n",
    "modern_print(\"How do you do?\")\n",
    "modern_print(\"Hello!\")"
   ]
  },
  {
   "cell_type": "markdown",
   "id": "e8ba635b",
   "metadata": {},
   "source": [
    "**G**"
   ]
  },
  {
   "cell_type": "code",
   "execution_count": 17,
   "id": "7754d8af",
   "metadata": {},
   "outputs": [
    {
     "name": "stdout",
     "output_type": "stream",
     "text": [
      "True\n"
     ]
    }
   ],
   "source": [
    "def can_eat(horse, others):\n",
    "    if abs(horse[0] - others[0]) == 1:\n",
    "        return abs(horse[1] - others[1]) == 2\n",
    "    else:\n",
    "        return abs(horse[1] - others[1]) == 1\n",
    "\n",
    "\n",
    "print(can_eat((2, 1), (4, 2)))"
   ]
  },
  {
   "cell_type": "markdown",
   "id": "1dfb02ed",
   "metadata": {},
   "source": [
    "**H**"
   ]
  },
  {
   "cell_type": "code",
   "execution_count": 18,
   "id": "ca7e498e",
   "metadata": {},
   "outputs": [
    {
     "name": "stdout",
     "output_type": "stream",
     "text": [
      "True\n"
     ]
    }
   ],
   "source": [
    "def is_palindrome(n):\n",
    "    if isinstance(n, int):\n",
    "        return str(n) == str(n)[::-1]\n",
    "    else:\n",
    "        return n == n[::-1] \n",
    "    \n",
    "\n",
    "print(is_palindrome([1, 2, 1, 2, 1]))"
   ]
  },
  {
   "cell_type": "markdown",
   "id": "6aa09ecf",
   "metadata": {},
   "source": [
    "**I**"
   ]
  },
  {
   "cell_type": "code",
   "execution_count": 19,
   "id": "54b4bbc3",
   "metadata": {},
   "outputs": [
    {
     "name": "stdout",
     "output_type": "stream",
     "text": [
      "True\n"
     ]
    }
   ],
   "source": [
    "def is_prime(n):\n",
    "    if n <= 1:\n",
    "        return False\n",
    "    for i in range(2, int(n**(1 / 2)) + 1):\n",
    "        if n % i == 0:\n",
    "            return False\n",
    "    return True\n",
    "\n",
    "\n",
    "print(is_prime(1001459))"
   ]
  },
  {
   "cell_type": "markdown",
   "id": "16c26548",
   "metadata": {},
   "source": [
    "**J**"
   ]
  },
  {
   "cell_type": "code",
   "execution_count": 25,
   "id": "f64647a8",
   "metadata": {},
   "outputs": [
    {
     "data": {
      "text/plain": [
       "(1, 7, 9, 12, 50)"
      ]
     },
     "execution_count": 25,
     "metadata": {},
     "output_type": "execute_result"
    }
   ],
   "source": [
    "def merge(tuple1, tuple2):\n",
    "    return tuple(sorted(list(tuple1 + tuple2)))\n",
    "\n",
    "\n",
    "merge((7, 12), (1, 9, 50))"
   ]
  },
  {
   "cell_type": "markdown",
   "id": "43a1eaf7",
   "metadata": {},
   "source": [
    "Яндекс не принял ответ :("
   ]
  },
  {
   "cell_type": "markdown",
   "id": "69f75305",
   "metadata": {},
   "source": [
    "# 4.2"
   ]
  },
  {
   "cell_type": "markdown",
   "id": "030c044e",
   "metadata": {},
   "source": [
    "**A**"
   ]
  },
  {
   "cell_type": "code",
   "execution_count": 26,
   "id": "73751567",
   "metadata": {},
   "outputs": [
    {
     "name": "stdout",
     "output_type": "stream",
     "text": [
      "[1, 1, 1, 1, 1]\n"
     ]
    }
   ],
   "source": [
    "def make_list(length, value=0):\n",
    "    return [value for i in range(length)]\n",
    "\n",
    "\n",
    "print(make_list(5,1))"
   ]
  },
  {
   "cell_type": "markdown",
   "id": "573a9979",
   "metadata": {},
   "source": [
    "**B**"
   ]
  },
  {
   "cell_type": "code",
   "execution_count": 27,
   "id": "1cb6e061",
   "metadata": {},
   "outputs": [
    {
     "name": "stdout",
     "output_type": "stream",
     "text": [
      "[[1, 1, 1, 1], [1, 1, 1, 1]]\n"
     ]
    }
   ],
   "source": [
    "def make_matrix(size, value=0):\n",
    "    if isinstance(size, tuple):\n",
    "        return [[value for i in range(size[0])] for j in range(size[1])]\n",
    "    else:\n",
    "        return [[value for x in range(size)] for y in range(size)]\n",
    "    \n",
    "\n",
    "print(make_matrix((4, 2), 1))"
   ]
  },
  {
   "cell_type": "markdown",
   "id": "c1ec0135",
   "metadata": {},
   "source": [
    "**C**"
   ]
  },
  {
   "cell_type": "code",
   "execution_count": 29,
   "id": "5a9992df",
   "metadata": {},
   "outputs": [
    {
     "name": "stdout",
     "output_type": "stream",
     "text": [
      "12\n"
     ]
    }
   ],
   "source": [
    "def gcd_2(a, b):\n",
    "    while b:\n",
    "        a, b = b, a % b\n",
    "    return a\n",
    "\n",
    "\n",
    "def gcd(*n):\n",
    "    gcd = n[0]\n",
    "    for i in range(1, len(n)):\n",
    "        gcd = gcd_2(gcd, n[i])\n",
    "    return gcd\n",
    "\n",
    "\n",
    "print(gcd(36, 48, 156, 100500))"
   ]
  },
  {
   "cell_type": "markdown",
   "id": "7e4b3d81",
   "metadata": {},
   "source": [
    "Яндекс не принял ответ :("
   ]
  },
  {
   "cell_type": "markdown",
   "id": "7bb116d8",
   "metadata": {},
   "source": [
    "**D**"
   ]
  },
  {
   "cell_type": "code",
   "execution_count": 30,
   "id": "77887075",
   "metadata": {},
   "outputs": [
    {
     "name": "stdout",
     "output_type": "stream",
     "text": [
      "December\n"
     ]
    }
   ],
   "source": [
    "def month(n, lang=\"ru\"):\n",
    "    months_dict = {\n",
    "        1: {\"en\": \"January\", \"ru\": \"Январь\"},\n",
    "        2: {\"en\": \"February\", \"ru\": \"Февраль\"},\n",
    "        3: {\"en\": \"March\", \"ru\": \"Март\"},\n",
    "        4: {\"en\": \"April\", \"ru\": \"Апрель\"},\n",
    "        5: {\"en\": \"May\", \"ru\": \"Май\"},\n",
    "        6: {\"en\": \"June\", \"ru\": \"Июнь\"},\n",
    "        7: {\"en\": \"July\", \"ru\": \"Июль\"},\n",
    "        8: {\"en\": \"August\", \"ru\": \"Август\"},\n",
    "        9: {\"en\": \"September\", \"ru\": \"Сентябрь\"},\n",
    "        10: {\"en\": \"October\", \"ru\": \"Октябрь\"},\n",
    "        11: {\"en\": \"November\", \"ru\": \"Ноябрь\"},\n",
    "        12: {\"en\": \"December\", \"ru\": \"Декабрь\"},\n",
    "    }\n",
    "    return months_dict[n][lang]\n",
    "\n",
    "\n",
    "print(month(12, \"en\"))"
   ]
  },
  {
   "cell_type": "markdown",
   "id": "4d0eb9e1",
   "metadata": {},
   "source": [
    "**E**"
   ]
  },
  {
   "cell_type": "code",
   "execution_count": 31,
   "id": "cc38939b",
   "metadata": {},
   "outputs": [
    {
     "name": "stdout",
     "output_type": "stream",
     "text": [
      "7, 3, 1, hello, (1, 2, 3)!\n"
     ]
    }
   ],
   "source": [
    "def to_string(*data, sep=\" \", end=\"\\n\"):\n",
    "    return sep.join(str(i) for i in data) + end\n",
    "\n",
    "\n",
    "data = [7, 3, 1, \"hello\", (1, 2, 3)]\n",
    "print(to_string(*data, sep=\", \", end=\"!\"))"
   ]
  },
  {
   "cell_type": "markdown",
   "id": "f6dd6e28",
   "metadata": {},
   "source": [
    "**F**"
   ]
  },
  {
   "cell_type": "code",
   "execution_count": 59,
   "id": "e9cd9f84",
   "metadata": {},
   "outputs": [
    {
     "name": "stdout",
     "output_type": "stream",
     "text": [
      "Капучино\n",
      "Макиато\n",
      "Эспрессо\n"
     ]
    }
   ],
   "source": [
    "ingredients_dict = {\n",
    "    \"Эспрессо\": {\"coffee\": 1, \"milk\": 0, \"cream\": 0},\n",
    "    \"Капучино\": {\"coffee\": 1, \"milk\": 3, \"cream\": 0},\n",
    "    \"Макиато\": {\"coffee\": 2, \"milk\": 1, \"cream\": 0},\n",
    "    \"Кофе по-венски\": {\"coffee\": 1, \"milk\": 0, \"cream\": 2},\n",
    "    \"Латте Макиато\": {\"coffee\": 1, \"milk\": 2, \"cream\": 1},\n",
    "    \"Кон Панна\": {\"coffee\": 1, \"milk\": 0, \"cream\": 1},\n",
    "}\n",
    "\n",
    "\n",
    "def order(*order):\n",
    "    answer = \"\"\n",
    "\n",
    "    for i in order:\n",
    "        enough = True\n",
    "        for j in ingredients_dict[i]:\n",
    "            if in_stock[j] < ingredients_dict[i][j]:\n",
    "                enough = False\n",
    "        if enough:\n",
    "            for x in ingredients_dict[i]:\n",
    "                in_stock[x] -= ingredients_dict[i][x]\n",
    "                answer = i\n",
    "            break\n",
    "        else:\n",
    "            answer = \"К сожалению, не можем предложить Вам напиток\"\n",
    "    return answer\n",
    "            \n",
    "\n",
    "in_stock = {\"coffee\": 4, \"milk\": 4, \"cream\": 0}\n",
    "print(order(\"Капучино\", \"Макиато\", \"Эспрессо\"))\n",
    "print(order(\"Капучино\", \"Макиато\", \"Эспрессо\"))\n",
    "print(order(\"Капучино\", \"Макиато\", \"Эспрессо\"))"
   ]
  },
  {
   "cell_type": "markdown",
   "id": "65e8fba9",
   "metadata": {},
   "source": [
    "**G**"
   ]
  },
  {
   "cell_type": "code",
   "execution_count": null,
   "id": "fe5e6031",
   "metadata": {},
   "outputs": [],
   "source": []
  },
  {
   "cell_type": "markdown",
   "id": "e2c14315",
   "metadata": {},
   "source": [
    "**H**"
   ]
  },
  {
   "cell_type": "code",
   "execution_count": null,
   "id": "fd1985e5",
   "metadata": {},
   "outputs": [],
   "source": []
  },
  {
   "cell_type": "markdown",
   "id": "7cd157be",
   "metadata": {},
   "source": [
    "**I**"
   ]
  },
  {
   "cell_type": "code",
   "execution_count": null,
   "id": "c6e9e148",
   "metadata": {},
   "outputs": [],
   "source": []
  },
  {
   "cell_type": "markdown",
   "id": "15eb6f2a",
   "metadata": {},
   "source": [
    "**J**"
   ]
  },
  {
   "cell_type": "code",
   "execution_count": null,
   "id": "b1b4c69c",
   "metadata": {},
   "outputs": [],
   "source": []
  },
  {
   "cell_type": "markdown",
   "id": "4b7a4844",
   "metadata": {},
   "source": [
    "# 4.3"
   ]
  },
  {
   "cell_type": "markdown",
   "id": "42e802df",
   "metadata": {},
   "source": [
    "**A**"
   ]
  },
  {
   "cell_type": "code",
   "execution_count": null,
   "id": "b9829950",
   "metadata": {},
   "outputs": [],
   "source": []
  },
  {
   "cell_type": "markdown",
   "id": "b8ab08ed",
   "metadata": {},
   "source": [
    "**B**"
   ]
  },
  {
   "cell_type": "code",
   "execution_count": null,
   "id": "d37e8ed5",
   "metadata": {},
   "outputs": [],
   "source": []
  },
  {
   "cell_type": "markdown",
   "id": "4d864425",
   "metadata": {},
   "source": [
    "**C**"
   ]
  },
  {
   "cell_type": "code",
   "execution_count": null,
   "id": "c89b9234",
   "metadata": {},
   "outputs": [],
   "source": []
  },
  {
   "cell_type": "markdown",
   "id": "393d6441",
   "metadata": {},
   "source": [
    "**D**"
   ]
  },
  {
   "cell_type": "code",
   "execution_count": null,
   "id": "7ec6a85f",
   "metadata": {},
   "outputs": [],
   "source": []
  },
  {
   "cell_type": "markdown",
   "id": "4a76fd45",
   "metadata": {},
   "source": [
    "**E**"
   ]
  },
  {
   "cell_type": "code",
   "execution_count": null,
   "id": "0e986983",
   "metadata": {},
   "outputs": [],
   "source": []
  },
  {
   "cell_type": "markdown",
   "id": "f7e5bf97",
   "metadata": {},
   "source": [
    "**F**"
   ]
  },
  {
   "cell_type": "code",
   "execution_count": null,
   "id": "9241ce49",
   "metadata": {},
   "outputs": [],
   "source": []
  },
  {
   "cell_type": "markdown",
   "id": "631d8ab8",
   "metadata": {},
   "source": [
    "**G**"
   ]
  },
  {
   "cell_type": "code",
   "execution_count": null,
   "id": "611f7b00",
   "metadata": {},
   "outputs": [],
   "source": []
  },
  {
   "cell_type": "markdown",
   "id": "fbcb1304",
   "metadata": {},
   "source": [
    "**H**"
   ]
  },
  {
   "cell_type": "code",
   "execution_count": null,
   "id": "08af8bd6",
   "metadata": {},
   "outputs": [],
   "source": []
  },
  {
   "cell_type": "markdown",
   "id": "6b32b807",
   "metadata": {},
   "source": [
    "**I**"
   ]
  },
  {
   "cell_type": "code",
   "execution_count": null,
   "id": "79185830",
   "metadata": {},
   "outputs": [],
   "source": []
  },
  {
   "cell_type": "markdown",
   "id": "2a0b4424",
   "metadata": {},
   "source": [
    "**J**"
   ]
  },
  {
   "cell_type": "code",
   "execution_count": null,
   "id": "99ff1a55",
   "metadata": {},
   "outputs": [],
   "source": []
  }
 ],
 "metadata": {
  "kernelspec": {
   "display_name": "Python 3 (ipykernel)",
   "language": "python",
   "name": "python3"
  },
  "language_info": {
   "codemirror_mode": {
    "name": "ipython",
    "version": 3
   },
   "file_extension": ".py",
   "mimetype": "text/x-python",
   "name": "python",
   "nbconvert_exporter": "python",
   "pygments_lexer": "ipython3",
   "version": "3.10.5"
  }
 },
 "nbformat": 4,
 "nbformat_minor": 5
}
